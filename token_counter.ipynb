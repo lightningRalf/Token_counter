{
 "cells": [
  {
   "attachments": {},
   "cell_type": "markdown",
   "metadata": {},
   "source": [
    "# Token Counter for Text\n",
    "This notebook demonstrates how to create a Python script that counts the number of tokens (words) in a text, using a specified language model. We'll also learn how to handle errors and log important events, errors, and warnings.\n",
    "\n",
    "## Import Libraries\n",
    "We will use the following libraries in our script:\n",
    "\n",
    "- `sys`: For command line arguments\n",
    "- `re`: For regular expressions to remove Markdown syntax\n",
    "- `logging`: For logging errors and events\n",
    "- `transformers`: For using pre-trained language models\n",
    "- `flask`: For creating a simple web application"
   ]
  },
  {
   "cell_type": "code",
   "execution_count": 1,
   "metadata": {},
   "outputs": [],
   "source": [
    "import sys\n",
    "import re\n",
    "import logging\n",
    "from transformers import AutoTokenizer\n",
    "from flask import Flask, render_template, request"
   ]
  },
  {
   "attachments": {},
   "cell_type": "markdown",
   "metadata": {},
   "source": [
    "## Count Tokens Functions\n",
    "The `count_tokens` function takes a file path as input, reads the file, and then counts the number of tokens (words) in the file using the specified language model.\n",
    "\n",
    "The `count_tokens_text` function takes a text string as input and counts the number of tokens (words) in the text using the specified language model."
   ]
  },
  {
   "cell_type": "code",
   "execution_count": 2,
   "metadata": {},
   "outputs": [],
   "source": [
    "def count_tokens(file_path, model_name='gpt4'):\n",
    "    try:\n",
    "        with open(file_path, 'r', encoding='utf-8') as file:\n",
    "            content = file.read()\n",
    "        tokenizer = AutoTokenizer.from_pretrained(model_name)\n",
    "        tokens = tokenizer.tokenize(content)\n",
    "        token_count = len(tokens)\n",
    "        logging.info(f'Token count for {file_path}: {token_count}')\n",
    "        return token_count\n",
    "    except FileNotFoundError:\n",
    "        logging.error(f'File not found: {file_path}')\n",
    "        print(f'Error: File not found - {file_path}')\n",
    "    except Exception as e:\n",
    "        logging.error(f'Error processing file: {file_path} - {str(e)}')\n",
    "        print(f'Error processing file: {file_path} - {str(e)}')\n",
    "\n",
    "def count_tokens_text(text, model_name='gpt4'):\n",
    "    try:\n",
    "        tokenizer = AutoTokenizer.from_pretrained(model_name)\n",
    "        tokens = tokenizer.tokenize(text)\n",
    "        token_count = len(tokens)\n",
    "        return token_count\n",
    "    except ValueError as ve:\n",
    "        error_message = f"Invalid model name: {model_name}.\n",
    "        return None, error_message\n",
    "    except OSError as oe:\n",
    "        error_message = f"Model not found: {model_name}.\n",
    "        return None, error_message\n",
    "    except Exception as e:\n",
    "        error_message = f"Error processing text: {str(e)}\n",
    "        return None, error_message"
   ]
  },
  {
   "attachments": {},
   "cell_type": "markdown",
   "metadata": {},
   "source": [
    "## Flask Web Application\n",
    "We can create a simple Flask web application to allow users to input text and select a language model to count the tokens."
   ]
  },
  {
   "cell_type": "code",
   "execution_count": 3,
   "metadata": {},
   "outputs": [],
   "source": [
    "app = Flask(__name__)\n",
    "\n",
    "@app.route('/', methods=['GET', 'POST'])\n",
    "def index():\n",
    "    if request.method == 'POST':\n",
    "        text = request.form['text']\n",
    "        model_name = request.form['model_name']\n",
    "        token_count, error = count_tokens_text(text, model_name)\n",
    "        return render_template('index.html', text=text, token_count=token_count, error=error)\n",
    "    else:\n",
    "        return render_template('index.html')\n",
    "\n",
    "if __name__ == '__main__':\n",
    "    file_path = r'C:\\your\\file\\path\\here\\NLP_intro.md'\n",
    "    logging.basicConfig(filename='token_counter.log', level=logging.INFO,\n",
    "                        format='%(asctime)s - %(levelname)s - %(message)s')\n",
    "    token_count = count_tokens(file_path)\n",
    "    if token_count is not None:\n",
    "        print(f'The number of tokens in the file is: {token_count}')\n",
    "    app.run()"
   ]
  },
  {
   "attachments": {},
   "cell_type": "markdown",
   "metadata": {},
   "source": [
    "# The End\n",
    "This is a Jupyter Notebook that demonstrates how to create a Python script to count tokens in a text using a specified language model, handle errors, and log important events. It also shows how to create a simple Flask web application for user interaction."
   ]
  }
 ],
 "metadata": {
  "kernelspec": {
   "display_name": "venv",
   "language": "python",
   "name": "python3"
  },
  "language_info": {
   "codemirror_mode": {
    "name": "ipython",
    "version": 3
   },
   "file_extension": ".py",
   "mimetype": "text/x-python",
   "name": "python",
   "nbconvert_exporter": "python",
   "pygments_lexer": "ipython3",
   "version": "3.11.3"
  },
  "orig_nbformat": 4
 },
 "nbformat": 4,
 "nbformat_minor": 2
}
