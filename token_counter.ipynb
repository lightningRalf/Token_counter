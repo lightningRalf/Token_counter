{
 "cells": [
  {
   "attachments": {},
   "cell_type": "markdown",
   "metadata": {},
   "source": [
    "# Token Counter for Markdown Files\n",
    "This notebook demonstrates how to create a Python script that counts the number of tokens (words) in a Markdown file, while ignoring Markdown syntax. We'll also learn how to handle errors and log important events, errors, and warnings.\n",
    "\n",
    "## Import Libraries\n",
    "We will use the following libraries in our script:\n",
    "\n",
    "- `sys`: For command line arguments\n",
    "- `re`: For regular expressions to remove Markdown syntax\n",
    "- `logging`: For logging errors and events"
   ]
  },
  {
   "cell_type": "code",
   "execution_count": 16,
   "metadata": {},
   "outputs": [],
   "source": [
    "import sys\n",
    "import re\n",
    "import logging"
   ]
  },
  {
   "attachments": {},
   "cell_type": "markdown",
   "metadata": {},
   "source": [
    "## Count Tokens Function\n",
    "The `count_tokens` function takes a file path as input, reads the file, removes Markdown syntax using regular expressions, and then counts the number of tokens (words) in the file."
   ]
  },
  {
   "cell_type": "code",
   "execution_count": 17,
   "metadata": {},
   "outputs": [],
   "source": [
    "def count_tokens(file_path):\n",
    "    try:\n",
    "        with open(file_path, 'r', encoding='utf-8') as file:\n",
    "            content = file.read()\n",
    "            content = re.sub(r'\\!\\[.*?\\]\\(.*?\\)|\\[(.*?)\\]\\(.*?\\)|\\#\\#*\\s|\\`|\\*|[\\*_]{2,}|[-]{3,}|\\d\\.\\s|\\n', '', content)\n",
    "            tokens = content.split()\n",
    "            logging.info(f'Token count for {file_path}: {token_count}')\n",
    "            return len(tokens)\n",
    "    except FileNotFoundError:\n",
    "        logging.error(f'File not found: {file_path}')\n",
    "        print(f'Error: File not found - {file_path}')\n",
    "    except Exception as e:\n",
    "        logging.error(f'Error processing file: {file_path} - {str(e)}')\n",
    "        print(f'Error processing file: {file_path} - {str(e)}')"
   ]
  },
  {
   "attachments": {},
   "cell_type": "markdown",
   "metadata": {},
   "source": [
    "## Using the Count Tokens Function\n",
    "To use the `count_tokens` function, provide a file path to a Markdown file as input. The function will return the number of tokens (words) in the file, ignoring Markdown syntax.\n",
    "\n",
    "Here's an example of how to use the function with a sample Markdown file named `NLP_intro.md`."
   ]
  },
  {
   "cell_type": "code",
   "execution_count": 18,
   "metadata": {},
   "outputs": [
    {
     "name": "stdout",
     "output_type": "stream",
     "text": [
      "The number of tokens in the file is: 227\n"
     ]
    }
   ],
   "source": [
    "file_path = r'C:\\Users\\mjpa\\Documents\\Obsidian\\20-29_Projekte\\21_jPAw\\21.96_MultiAgentSystem\\OBJECTIVE-MAS-GITHUB-basedOnAgentLLM.md'\n",
    "token_count = count_tokens(file_path)\n",
    "\n",
    "if token_count is not None:\n",
    "    print(f'The number of tokens in the file is: {token_count}')"
   ]
  },
  {
   "attachments": {},
   "cell_type": "markdown",
   "metadata": {},
   "source": [
    "## Creating a Standalone Python Script\n",
    "To create a standalone Python script, follow these steps:\n",
    "\n",
    "1. Save the code in a file named `token_counter.py`\n",
    "2. Open a command prompt or terminal\n",
    "3. Navigate to the directory where the `token_counter.py` file is located\n",
    "4. Run the script with the following command: `python token_counter.py path/to/your/markdown_file.md`\n",
    "\n",
    "Replace `path/to/your/markdown_file.md` with the path to the actual Markdown file you'd like to process. The script will return the number of tokens (words) in the file, ignoring Markdown syntax.\n",
    "\n",
    "## Setting Up Logging\n",
    "\n",
    "We have added logging to the `count_tokens` function to log errors and events. To set up logging, we use the `logging.basicConfig` function, which allows us to configure the logging settings, such as the log file name, log level, and log message format. In our example, we set the log file name to `token_counter.log`, the log level to `logging.INFO`, and the log message format to include the timestamp, log level, and message.\n"
   ]
  },
  {
   "cell_type": "code",
   "execution_count": 19,
   "metadata": {},
   "outputs": [],
   "source": [
    "logging.basicConfig(filename='token_counter.log', level=logging.INFO,\n",
    "    format='%(asctime)s - %(levelname)s - %(message)s')"
   ]
  },
  {
   "attachments": {},
   "cell_type": "markdown",
   "metadata": {},
   "source": [
    "# The End\n",
    "This is a Jupyter Notebook that demonstrates how to create a Python script to count tokens in a Markdown file, handle errors, and log important events."
   ]
  }
 ],
 "metadata": {
  "kernelspec": {
   "display_name": "venv",
   "language": "python",
   "name": "python3"
  },
  "language_info": {
   "codemirror_mode": {
    "name": "ipython",
    "version": 3
   },
   "file_extension": ".py",
   "mimetype": "text/x-python",
   "name": "python",
   "nbconvert_exporter": "python",
   "pygments_lexer": "ipython3",
   "version": "3.11.3"
  },
  "orig_nbformat": 4
 },
 "nbformat": 4,
 "nbformat_minor": 2
}
